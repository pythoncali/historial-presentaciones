{
  "nbformat": 4,
  "nbformat_minor": 0,
  "metadata": {
    "colab": {
      "name": "Getting started with numpy",
      "version": "0.3.2",
      "provenance": [],
      "include_colab_link": true
    },
    "kernelspec": {
      "name": "python3",
      "display_name": "Python 3"
    }
  },
  "cells": [
    {
      "cell_type": "markdown",
      "metadata": {
        "id": "view-in-github",
        "colab_type": "text"
      },
      "source": [
        "<a href=\"https://colab.research.google.com/github/alvquiJuan/numpy-talk/blob/master/Getting_started_with_numpy.ipynb\" target=\"_parent\"><img src=\"https://colab.research.google.com/assets/colab-badge.svg\" alt=\"Open In Colab\"/></a>"
      ]
    },
    {
      "metadata": {
        "id": "ZAsqUhnnkYj8",
        "colab_type": "code",
        "colab": {}
      },
      "cell_type": "code",
      "source": [
        "import numpy as np"
      ],
      "execution_count": 0,
      "outputs": []
    },
    {
      "metadata": {
        "id": "NR7xka3JkiBm",
        "colab_type": "text"
      },
      "cell_type": "markdown",
      "source": [
        "# **What is Numpy?**\n",
        "\n",
        "A python library, written in C,  which contains data structures and functionalities useful for work with arrays and matrices.\n",
        "\n",
        "#**Why numpy?**\n",
        "\n",
        "I've hope that after this talk you get that idea! For me, is an useful way to solve a set of problems that are more time expensive using regular programming (even with Python).\n",
        "\n",
        "#**How can I get numpy**\n",
        "\n",
        "**the easy way**\n",
        "\n",
        "```pip install numpy\n",
        "```\n",
        "\n",
        "**The easier way**\n",
        "1. go to www.conda.io\n",
        "2. Install miniconda (if you want some basic stuff and/or don't want to bloat your computer) or Anaconda.\n",
        "3. enjoy\n",
        "\n",
        "** the easiest way**\n",
        "\n",
        "use a [google colab](https://colab.research.google.com/) notebook (like the one that are you seeing)"
      ]
    },
    {
      "metadata": {
        "id": "A_bZ-gInt1tf",
        "colab_type": "text"
      },
      "cell_type": "markdown",
      "source": [
        "#***Array creation***"
      ]
    },
    {
      "metadata": {
        "id": "0PcSFBxMoJId",
        "colab_type": "code",
        "outputId": "a9c1944d-f242-4ed7-e715-4e1d92bfad6e",
        "colab": {
          "base_uri": "https://localhost:8080/",
          "height": 136
        }
      },
      "cell_type": "code",
      "source": [
        "reg_array=[1,2,3]\n",
        "print(\"regular array \", reg_array)\n",
        "np_array=np.array([1,2,3])\n",
        "print(\"numpy array\", np_array)\n",
        "zeros_reg_array=[ 0 for e in range(5)]\n",
        "print(\"zeros regular array\" , zeros_reg_array)\n",
        "zeros_np_array=np.zeros(5);\n",
        "print(\"zeros numpy array\" , zeros_np_array)\n",
        "ones_reg_array=[ 1 for e in range(7)]\n",
        "print (\"ones regular array\", ones_reg_array)\n",
        "ones_np_array=np.ones(7);\n",
        "print(\"ones numpy array\" , ones_np_array)\n",
        "range_reg_array1=range(4)\n",
        "print(\"regular range array\", range_reg_array1)\n",
        "a=np.arange(4)\n",
        "print(a)"
      ],
      "execution_count": 0,
      "outputs": [
        {
          "output_type": "stream",
          "text": [
            "regular array  [1, 2, 3]\n",
            "numpy array [1 2 3]\n",
            "zeros regular array [0, 0, 0, 0, 0]\n",
            "zeros numpy array [0. 0. 0. 0. 0.]\n",
            "ones regular array [1, 1, 1, 1, 1, 1, 1]\n",
            "ones numpy array [1. 1. 1. 1. 1. 1. 1.]\n",
            "regular range array range(0, 4)\n"
          ],
          "name": "stdout"
        }
      ]
    }
  ]
}